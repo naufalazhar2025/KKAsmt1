{
  "nbformat": 4,
  "nbformat_minor": 0,
  "metadata": {
    "colab": {
      "provenance": [],
      "authorship_tag": "ABX9TyMYvXP6tOYYqQMNwSLLrZRZ",
      "include_colab_link": true
    },
    "kernelspec": {
      "name": "python3",
      "display_name": "Python 3"
    },
    "language_info": {
      "name": "python"
    }
  },
  "cells": [
    {
      "cell_type": "markdown",
      "metadata": {
        "id": "view-in-github",
        "colab_type": "text"
      },
      "source": [
        "<a href=\"https://colab.research.google.com/github/naufalazhar2025/KKAsmt1/blob/main/3_simple_app_tabung_volume_XI1_naufal.ipynb\" target=\"_parent\"><img src=\"https://colab.research.google.com/assets/colab-badge.svg\" alt=\"Open In Colab\"/></a>"
      ]
    },
    {
      "cell_type": "markdown",
      "source": [
        "Naufal Dani Azhar\n",
        "Kelas sebelas satu\n",
        "No 28\n",
        "Could play"
      ],
      "metadata": {
        "id": "JkCpkMsIgHf6"
      }
    },
    {
      "cell_type": "markdown",
      "source": [
        "# aplikasi sederhana menghitung volume"
      ],
      "metadata": {
        "id": "adtWaundgXOe"
      }
    },
    {
      "cell_type": "code",
      "execution_count": null,
      "metadata": {
        "colab": {
          "base_uri": "https://localhost:8080/"
        },
        "id": "CGFcZR8leQjm",
        "outputId": "874270bd-a38c-4b9d-ca81-91be7f2aecb1"
      },
      "outputs": [
        {
          "output_type": "stream",
          "name": "stdout",
          "text": [
            "silahkan masukkan jari jari tabung35\n",
            "silahkan masukkan tinggi tabung 25\n",
            "volume tabung adalah 96162.5 cm^3\n"
          ]
        }
      ],
      "source": [
        "jari_jari_tabung = float(input(\"silahkan masukkan jari jari tabung\"))\n",
        "tinggi_tabung = float(input(\"silahkan masukkan tinggi tabung\"))\n",
        "phi = 3.14\n",
        "\n",
        "volume_tabung = phi * jari_jari_tabung**2 * tinggi_tabung\n",
        "print(f\"volume tabung adalah {volume_tabung} cm^3\")"
      ]
    }
  ]
}