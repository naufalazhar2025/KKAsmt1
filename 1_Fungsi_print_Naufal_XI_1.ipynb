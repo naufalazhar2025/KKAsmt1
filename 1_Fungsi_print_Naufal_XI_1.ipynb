{
  "nbformat": 4,
  "nbformat_minor": 0,
  "metadata": {
    "colab": {
      "provenance": [],
      "authorship_tag": "ABX9TyPXdrwX5lGx7Z7+zb/ZN9AT",
      "include_colab_link": true
    },
    "kernelspec": {
      "name": "python3",
      "display_name": "Python 3"
    },
    "language_info": {
      "name": "python"
    }
  },
  "cells": [
    {
      "cell_type": "markdown",
      "metadata": {
        "id": "view-in-github",
        "colab_type": "text"
      },
      "source": [
        "<a href=\"https://colab.research.google.com/github/naufalazhar2025/KKAsmt1/blob/main/1_Fungsi_print_Naufal_XI_1.ipynb\" target=\"_parent\"><img src=\"https://colab.research.google.com/assets/colab-badge.svg\" alt=\"Open In Colab\"/></a>"
      ]
    },
    {
      "cell_type": "markdown",
      "source": [
        "menampilkan variable dan teks bebas"
      ],
      "metadata": {
        "id": "JLn9JUF7CIH2"
      }
    },
    {
      "cell_type": "code",
      "source": [],
      "metadata": {
        "id": "VF8AHTY7gfQ8"
      },
      "execution_count": null,
      "outputs": []
    },
    {
      "cell_type": "code",
      "source": [
        "print(\"Hari ini saya bahagia belajar bahasa python\")"
      ],
      "metadata": {
        "colab": {
          "base_uri": "https://localhost:8080/"
        },
        "id": "AoChaQIFghmO",
        "outputId": "8f1b31cb-5595-4572-a1fc-0cef219bf925"
      },
      "execution_count": null,
      "outputs": [
        {
          "output_type": "stream",
          "name": "stdout",
          "text": [
            "Hari ini saya bahagia belajar bahasa python\n"
          ]
        }
      ]
    },
    {
      "cell_type": "code",
      "source": [],
      "metadata": {
        "id": "UQEKKQm5FKXP"
      },
      "execution_count": null,
      "outputs": []
    },
    {
      "cell_type": "code",
      "execution_count": null,
      "metadata": {
        "colab": {
          "base_uri": "https://localhost:8080/"
        },
        "id": "-tmqI32L_ktf",
        "outputId": "dbb79f9f-da13-40d1-ef30-2ee44173fdbf"
      },
      "outputs": [
        {
          "output_type": "stream",
          "name": "stdout",
          "text": [
            "harga telur per 1 kg adalah 26000\n"
          ]
        }
      ],
      "source": [
        "harga_telur = 26000\n",
        "print(\"harga telur per 1 kg adalah\", harga_telur)"
      ]
    },
    {
      "cell_type": "markdown",
      "source": [],
      "metadata": {
        "id": "IAQcNLHEC6n-"
      }
    },
    {
      "cell_type": "code",
      "source": [],
      "metadata": {
        "id": "0WoMmryQDnJ2"
      },
      "execution_count": null,
      "outputs": []
    },
    {
      "cell_type": "code",
      "source": [
        "nama_pembeli = \"reza\"\n",
        "print (\"nama pembeli telur adalah\" + nama_pembeli)"
      ],
      "metadata": {
        "colab": {
          "base_uri": "https://localhost:8080/"
        },
        "id": "COwCjiYyDUAJ",
        "outputId": "1486b118-f476-491b-e745-aab9ca71f270"
      },
      "execution_count": null,
      "outputs": [
        {
          "output_type": "stream",
          "name": "stdout",
          "text": [
            "nama pembeli telur adalahreza\n"
          ]
        }
      ]
    },
    {
      "cell_type": "code",
      "source": [
        "nama_narkobawan = \"dafin\"\n",
        "print(\"nama pembeli telur adalah \" + nama_narkobawan)"
      ],
      "metadata": {
        "id": "Evf7jmG7COUr",
        "colab": {
          "base_uri": "https://localhost:8080/"
        },
        "outputId": "437f09b5-d5bf-408b-e7c7-c42b9d553be1"
      },
      "execution_count": null,
      "outputs": [
        {
          "output_type": "stream",
          "name": "stdout",
          "text": [
            "nama pembeli telur adalah dafin\n"
          ]
        }
      ]
    },
    {
      "cell_type": "markdown",
      "source": [
        "Latihan soal\n",
        "1. Tampilkan teks bebas: Hari ini saya bahagia belajar bahasa python\n",
        "2. Tampilkan nilai variable: mata_pelajaran_favorit = kode dan kecerdasan buatan\n",
        "3. Tampilkan nilai variable: nilai_kka = 100\n",
        "4. Tampilkan teks bebas dan nilai variabel dengan tiga metode (f string, \"+\",\",\"). \"Nilai KKA saya adalah {nilai_kka}loh!\""
      ],
      "metadata": {
        "id": "mWRISwcNGrp5"
      }
    },
    {
      "cell_type": "markdown",
      "source": [
        "#Escape character"
      ],
      "metadata": {
        "id": "RvCTpKeCJVVf"
      }
    },
    {
      "cell_type": "code",
      "source": [
        "print(\"nama: denzuhdi\")\n",
        "print(\"kelas: XI.1\")\n",
        "print(\"nomer absen: 28\")"
      ],
      "metadata": {
        "colab": {
          "base_uri": "https://localhost:8080/"
        },
        "id": "3nTNT_-NJeVw",
        "outputId": "fbf75009-1dee-469e-fc38-163850cadfe5"
      },
      "execution_count": null,
      "outputs": [
        {
          "output_type": "stream",
          "name": "stdout",
          "text": [
            "nama: denzuhdi\n",
            "kelas: XI.1\n",
            "nomer absen: 28\n"
          ]
        }
      ]
    },
    {
      "cell_type": "code",
      "source": [
        "print(\"Hari ini saya bahagia belajar bahasa python\")"
      ],
      "metadata": {
        "colab": {
          "base_uri": "https://localhost:8080/"
        },
        "id": "EdMvCUBT1LTF",
        "outputId": "4593991f-7a06-4d8a-b604-ed02c0b6300f"
      },
      "execution_count": null,
      "outputs": [
        {
          "output_type": "stream",
          "name": "stdout",
          "text": [
            "Hari ini saya bahagia belajar bahasa python\n"
          ]
        }
      ]
    },
    {
      "cell_type": "code",
      "source": [
        "print(\"mata_pelajaran_favorit = kode dan kecerdasan buatan\")"
      ],
      "metadata": {
        "colab": {
          "base_uri": "https://localhost:8080/"
        },
        "id": "o0vdKzOG9rcm",
        "outputId": "f8484c1a-831f-4abe-c393-dccee005b09c"
      },
      "execution_count": null,
      "outputs": [
        {
          "output_type": "stream",
          "name": "stdout",
          "text": [
            "mata_pelajaran_favorit = kode dan kecerdasan buatan\n"
          ]
        }
      ]
    },
    {
      "cell_type": "code",
      "source": [
        "nilai_kka = 100\n",
        "print(\"nilai KKA\")"
      ],
      "metadata": {
        "colab": {
          "base_uri": "https://localhost:8080/"
        },
        "id": "8o1-2nRw906F",
        "outputId": "93943690-de61-4b4c-e510-de7d6c9d2efc"
      },
      "execution_count": null,
      "outputs": [
        {
          "output_type": "stream",
          "name": "stdout",
          "text": [
            "nilai KKA\n"
          ]
        }
      ]
    },
    {
      "cell_type": "code",
      "source": [
        "nilai_KKA = 100\n",
        "print(\"nilai KKA saya adalah {nilai_KKA} loh\")"
      ],
      "metadata": {
        "colab": {
          "base_uri": "https://localhost:8080/"
        },
        "id": "YHIUw1Cj-ZJE",
        "outputId": "f0847a13-9907-46ab-c057-f1473afbf5a5"
      },
      "execution_count": null,
      "outputs": [
        {
          "output_type": "stream",
          "name": "stdout",
          "text": [
            "nilai KKA saya adalah {nilai_KKA} loh\n"
          ]
        }
      ]
    },
    {
      "cell_type": "code",
      "source": [
        "print(\"dzawil 'irfan\")"
      ],
      "metadata": {
        "colab": {
          "base_uri": "https://localhost:8080/"
        },
        "id": "YaA28dcvCZV2",
        "outputId": "49f28cc4-c9a4-4f7a-ddb9-cc8e83b1e543"
      },
      "execution_count": null,
      "outputs": [
        {
          "output_type": "stream",
          "name": "stdout",
          "text": [
            "dzawil 'irfan\n"
          ]
        }
      ]
    },
    {
      "cell_type": "code",
      "source": [
        "print(\"bu cici berkata, \\\"ambil beng beng nya di meja.\\\"\")"
      ],
      "metadata": {
        "colab": {
          "base_uri": "https://localhost:8080/"
        },
        "id": "xijyME4_CmKE",
        "outputId": "e4387216-0a85-4392-bf21-2bfe960a09a1"
      },
      "execution_count": null,
      "outputs": [
        {
          "output_type": "stream",
          "name": "stdout",
          "text": [
            "bu cici berkata, \"ambil beng beng nya di meja.\"\n"
          ]
        }
      ]
    },
    {
      "cell_type": "code",
      "source": [
        "print(\"lokasi vidio pramuka ada di D:\\\\pramuka 2026\\\\mp4\")"
      ],
      "metadata": {
        "colab": {
          "base_uri": "https://localhost:8080/"
        },
        "id": "u0ip0bIFDB4j",
        "outputId": "42d4bb49-90f5-430a-95ce-a9ff94b11c23"
      },
      "execution_count": null,
      "outputs": [
        {
          "output_type": "stream",
          "name": "stdout",
          "text": [
            "lokasi vidio pramuka ada di D:\\pramuka 2026\\mp4\n"
          ]
        }
      ]
    },
    {
      "cell_type": "code",
      "source": [
        "print(\"sam'ani sumiro\")"
      ],
      "metadata": {
        "colab": {
          "base_uri": "https://localhost:8080/"
        },
        "id": "a5_-Z8vxDgxY",
        "outputId": "6a78f3ea-77fd-4442-8707-d736b4f7828b"
      },
      "execution_count": null,
      "outputs": [
        {
          "output_type": "stream",
          "name": "stdout",
          "text": [
            "sam'ani sumiro\n"
          ]
        }
      ]
    },
    {
      "cell_type": "markdown",
      "source": [
        "parameter fungsi print"
      ],
      "metadata": {
        "id": "rVfsi6EmHG-r"
      }
    },
    {
      "cell_type": "code",
      "source": [
        "tahun = 2024\n",
        "bulan = \"Oktober\"\n",
        "tanggal = 5\n",
        "\n",
        "print(tanggal, end=\" \")\n",
        "print(bulan, end=\" \")\n",
        "print(tahun)"
      ],
      "metadata": {
        "id": "CMj610VMHMNp",
        "colab": {
          "base_uri": "https://localhost:8080/"
        },
        "outputId": "4c2b6eb0-fd2c-4942-9cbe-7ec8a12fc8a7"
      },
      "execution_count": null,
      "outputs": [
        {
          "output_type": "stream",
          "name": "stdout",
          "text": [
            "5 Oktober 2024\n"
          ]
        }
      ]
    },
    {
      "cell_type": "markdown",
      "source": [],
      "metadata": {
        "id": "02PcJZLKRXAK"
      }
    },
    {
      "cell_type": "code",
      "source": [
        "Nama_depan = \"Naufal\"\n",
        "Nama_belakang = \"Azhar\"\n",
        "print(Nama_depan, Nama_belakang)"
      ],
      "metadata": {
        "colab": {
          "base_uri": "https://localhost:8080/"
        },
        "id": "WoHugNcaIZTL",
        "outputId": "880f5032-f423-48cc-c0de-2018b66570b9"
      },
      "execution_count": null,
      "outputs": [
        {
          "output_type": "stream",
          "name": "stdout",
          "text": [
            "Naufal Azhar\n"
          ]
        }
      ]
    },
    {
      "cell_type": "code",
      "source": [
        "Nama_depan = \"Reza\"\n",
        "Nama_belakang = \"fairuz\"\n",
        "print(Nama_depan, Nama_belakang)"
      ],
      "metadata": {
        "colab": {
          "base_uri": "https://localhost:8080/"
        },
        "id": "JVBHqgOeI9qj",
        "outputId": "c63f8a10-b97c-476a-9797-66437ec5cd93"
      },
      "execution_count": null,
      "outputs": [
        {
          "output_type": "stream",
          "name": "stdout",
          "text": [
            "Reza fairuz\n"
          ]
        }
      ]
    },
    {
      "cell_type": "code",
      "source": [
        "Senin = jam 1 \"matematika\", jam 2 \"bahasa ing.\" Jam 3 \"Informatika\"\n",
        "Selasa = jam 1 \"bahasa\", jam 2 \"sejarah\", jam 3 \"olahraga\"\n",
        "Rabu = jam 1 \"informatika\", jam 2 \"ma'rifatullah\", jam 3 \"biologi\"\n",
        "\n",
        "print(Senin, Selasa, Rabu)"
      ],
      "metadata": {
        "colab": {
          "base_uri": "https://localhost:8080/",
          "height": 141
        },
        "id": "hyiP-FpnL2AR",
        "outputId": "7b76fbd7-bbbd-4231-8c0a-1dd6763099ba"
      },
      "execution_count": null,
      "outputs": [
        {
          "output_type": "error",
          "ename": "SyntaxError",
          "evalue": "invalid syntax (ipython-input-21760262.py, line 1)",
          "traceback": [
            "\u001b[0;36m  File \u001b[0;32m\"/tmp/ipython-input-21760262.py\"\u001b[0;36m, line \u001b[0;32m1\u001b[0m\n\u001b[0;31m    Senin = jam 1 \"matematika\", jam 2 \"bahasa ing.\" Jam 3 \"Informatika\"\u001b[0m\n\u001b[0m                ^\u001b[0m\n\u001b[0;31mSyntaxError\u001b[0m\u001b[0;31m:\u001b[0m invalid syntax\n"
          ]
        }
      ]
    },
    {
      "cell_type": "code",
      "source": [
        "(\"Bu Sinta berkata, \\\"berikut adalah judul pelajaran hari Senin Selasa Rabu silahkan di simpan di laptop masing masing di folder local disk D:\\\\jadwal pelajaran\\\\kelas XI semester 1\\\"\")"
      ],
      "metadata": {
        "colab": {
          "base_uri": "https://localhost:8080/",
          "height": 105
        },
        "id": "05WrEmwSNuVE",
        "outputId": "fc95026f-5d64-44aa-81a4-0e69187ac432"
      },
      "execution_count": null,
      "outputs": [
        {
          "output_type": "execute_result",
          "data": {
            "text/plain": [
              "'Bu Sinta berkata, \"berikut adalah judul pelajaran hari Senin Selasa Rabu silahkan di simpan di laptop masing masing di folder local disk D:\\\\jadwal pelajaran\\\\kelas XI semester 1\"'"
            ],
            "application/vnd.google.colaboratory.intrinsic+json": {
              "type": "string"
            }
          },
          "metadata": {},
          "execution_count": 18
        }
      ]
    },
    {
      "cell_type": "markdown",
      "source": [
        "Parameter fungsi"
      ],
      "metadata": {
        "id": "vruXZV09FL09"
      }
    },
    {
      "cell_type": "code",
      "source": [
        "nama_siswa_1 = \"favian\"\n",
        "nama_siswa_2 = \"Naufal\"\n",
        "nama_siswa_3 = \"Humaira\"\n",
        "\n",
        "print(nama_siswa_1, nama_siswa_2, nama_siswa_3)"
      ],
      "metadata": {
        "colab": {
          "base_uri": "https://localhost:8080/"
        },
        "id": "EXmtl35iFPny",
        "outputId": "83e2d5b1-6e68-4127-8cab-ccf5bf2012f3"
      },
      "execution_count": null,
      "outputs": [
        {
          "output_type": "stream",
          "name": "stdout",
          "text": [
            "favian Naufal Humaira\n"
          ]
        }
      ]
    },
    {
      "cell_type": "code",
      "source": [
        "print(nama_siswa_2, nama_siswa_1, sep=\"~\")"
      ],
      "metadata": {
        "colab": {
          "base_uri": "https://localhost:8080/"
        },
        "id": "rFOt_HkcF6Ta",
        "outputId": "a4e504d5-e9e9-42b4-f4c2-f02688bd338a"
      },
      "execution_count": null,
      "outputs": [
        {
          "output_type": "stream",
          "name": "stdout",
          "text": [
            "Naufal~favian\n"
          ]
        }
      ]
    },
    {
      "cell_type": "code",
      "source": [
        "print(nama_siswa_3, nama_siswa_1, sep=\"~\")"
      ],
      "metadata": {
        "colab": {
          "base_uri": "https://localhost:8080/"
        },
        "id": "KbsJkmeZHblm",
        "outputId": "4840c5fc-2245-4157-a949-9cb1306e6605"
      },
      "execution_count": null,
      "outputs": [
        {
          "output_type": "stream",
          "name": "stdout",
          "text": [
            "Humaira~favian\n"
          ]
        }
      ]
    },
    {
      "cell_type": "code",
      "source": [
        "print(nama_siswa_2, nama_siswa_1, nama_siswa_3, nama_siswa_1, sep=\"~\")"
      ],
      "metadata": {
        "colab": {
          "base_uri": "https://localhost:8080/"
        },
        "id": "GYJ1YYYMHbsp",
        "outputId": "ca160b26-fde2-4ba6-be8c-f2e72f0d8b07"
      },
      "execution_count": null,
      "outputs": [
        {
          "output_type": "stream",
          "name": "stdout",
          "text": [
            "Naufal~favian~Humaira~favian\n"
          ]
        }
      ]
    },
    {
      "cell_type": "code",
      "source": [
        "print(nama_siswa_2, end=\"~\")\n",
        "print(nama_siswa_1)\n",
        "print(nama_siswa_3, end=\"~\")\n",
        "print(nama_siswa_1)"
      ],
      "metadata": {
        "colab": {
          "base_uri": "https://localhost:8080/"
        },
        "id": "JICHvbHxH_oB",
        "outputId": "83130f83-aeb9-42a3-9a6f-f0ccadc3fbfa"
      },
      "execution_count": null,
      "outputs": [
        {
          "output_type": "stream",
          "name": "stdout",
          "text": [
            "Naufal~favian\n",
            "Humaira~favian\n"
          ]
        }
      ]
    }
  ]
}